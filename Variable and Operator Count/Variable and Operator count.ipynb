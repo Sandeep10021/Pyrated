{
 "cells": [
  {
   "cell_type": "code",
   "execution_count": 1,
   "metadata": {},
   "outputs": [],
   "source": [
    "# Variable and Operator Count for C code "
   ]
  },
  {
   "cell_type": "code",
   "execution_count": 2,
   "metadata": {},
   "outputs": [],
   "source": [
    "code=[]\n",
    "\n",
    "# Reading the code file and filtering out unnecessary symbols.\n",
    "for line in open(r\"sampleC.c\"):\n",
    "    code.append(line.strip(';').strip('\\n').strip().strip('{').strip('}').strip('#').strip('').strip('(').strip(')').strip(',').strip(\"''\"))"
   ]
  },
  {
   "cell_type": "code",
   "execution_count": 3,
   "metadata": {},
   "outputs": [
    {
     "name": "stdout",
     "output_type": "stream",
     "text": [
      "['include <stdio.h>', 'int main(', '', 'char name[50];', 'int marks, i, num;', 'printf(\"Enter number of students: \");', 'scanf(\"%d\", &num);', 'FILE *fptr;', 'fptr = (fopen(\"C:\\\\\\\\student.txt\", \"a\"));', 'if(fptr == NULL', '', 'printf(\"Error!\");', 'exit(1);', '', 'for(i = 0; i < num; ++i', '', 'printf(\"For student%d\\\\nEnter name: \", i+1);', 'scanf(\"%s\", name);', 'printf(\"Enter marks: \");', 'scanf(\"%d\", &marks);', 'fprintf(fptr,\"\\\\nName: %s \\\\nMarks=%d \\\\n\", name, marks);', '', 'fclose(fptr);', 'return 0;', '']\n"
     ]
    }
   ],
   "source": [
    "print(code)"
   ]
  },
  {
   "cell_type": "code",
   "execution_count": 4,
   "metadata": {},
   "outputs": [],
   "source": [
    "code_ref=[]\n",
    "\n",
    "# Performing split on each of the string for easy comparison\n",
    "for word in code:\n",
    "    code_ref.append(word.split())   "
   ]
  },
  {
   "cell_type": "code",
   "execution_count": 5,
   "metadata": {},
   "outputs": [
    {
     "name": "stdout",
     "output_type": "stream",
     "text": [
      "[['include', '<stdio.h>'], ['int', 'main('], [], ['char', 'name[50];'], ['int', 'marks,', 'i,', 'num;'], ['printf(\"Enter', 'number', 'of', 'students:', '\");'], ['scanf(\"%d\",', '&num);'], ['FILE', '*fptr;'], ['fptr', '=', '(fopen(\"C:\\\\\\\\student.txt\",', '\"a\"));'], ['if(fptr', '==', 'NULL'], [], ['printf(\"Error!\");'], ['exit(1);'], [], ['for(i', '=', '0;', 'i', '<', 'num;', '++i'], [], ['printf(\"For', 'student%d\\\\nEnter', 'name:', '\",', 'i+1);'], ['scanf(\"%s\",', 'name);'], ['printf(\"Enter', 'marks:', '\");'], ['scanf(\"%d\",', '&marks);'], ['fprintf(fptr,\"\\\\nName:', '%s', '\\\\nMarks=%d', '\\\\n\",', 'name,', 'marks);'], [], ['fclose(fptr);'], ['return', '0;'], []]\n"
     ]
    }
   ],
   "source": [
    "print(code_ref)"
   ]
  },
  {
   "cell_type": "code",
   "execution_count": 6,
   "metadata": {},
   "outputs": [
    {
     "name": "stdout",
     "output_type": "stream",
     "text": [
      "include\n",
      "<stdio.h>\n",
      "int\n",
      "main(\n",
      "char\n",
      "name[50];\n",
      "int\n",
      "marks,\n",
      "i,\n",
      "num;\n",
      "printf(\"Enter\n",
      "number\n",
      "of\n",
      "students:\n",
      "\");\n",
      "scanf(\"%d\",\n",
      "&num);\n",
      "FILE\n",
      "*fptr;\n",
      "fptr\n",
      "=\n",
      "(fopen(\"C:\\\\student.txt\",\n",
      "\"a\"));\n",
      "if(fptr\n",
      "==\n",
      "NULL\n",
      "printf(\"Error!\");\n",
      "exit(1);\n",
      "for(i\n",
      "=\n",
      "0;\n",
      "i\n",
      "<\n",
      "num;\n",
      "++i\n",
      "printf(\"For\n",
      "student%d\\nEnter\n",
      "name:\n",
      "\",\n",
      "i+1);\n",
      "scanf(\"%s\",\n",
      "name);\n",
      "printf(\"Enter\n",
      "marks:\n",
      "\");\n",
      "scanf(\"%d\",\n",
      "&marks);\n",
      "fprintf(fptr,\"\\nName:\n",
      "%s\n",
      "\\nMarks=%d\n",
      "\\n\",\n",
      "name,\n",
      "marks);\n",
      "fclose(fptr);\n",
      "return\n",
      "0;\n"
     ]
    }
   ],
   "source": [
    "for elements in code_ref:\n",
    "    for items in elements:\n",
    "        print(items)"
   ]
  },
  {
   "cell_type": "code",
   "execution_count": 7,
   "metadata": {},
   "outputs": [],
   "source": [
    "# All Operators are considered. Just remove whatever you don't want\n",
    "count={'int':0,'float':0, 'char':0, 'short':0, 'long':0, 'double':0, '=':0, '+':0, '-':0, '*':0, '%':0, '/':0, '++':0, '--':0, '==':0, '!=':0, '>':0, '<':0, '<=':0, '>=':0, '&&':0, '!':0, '||':0, '&':0, '|':0, '^':0, '~':0, '<<':0, '>>':0, '+=':0, '-=':0, '*=':0, '/=':0, '^=':0, '%=':0, '&=':0}\n"
   ]
  },
  {
   "cell_type": "code",
   "execution_count": 8,
   "metadata": {},
   "outputs": [],
   "source": [
    "# Comparing each items in code file and storing the occurance count in above dictionary.\n",
    "for elements in code_ref:\n",
    "    for items in elements:\n",
    "        for key in count.keys(): \n",
    "            if items == key or items.startswith(key):\n",
    "                count[key] += 1\n",
    "            "
   ]
  },
  {
   "cell_type": "code",
   "execution_count": 9,
   "metadata": {},
   "outputs": [
    {
     "name": "stdout",
     "output_type": "stream",
     "text": [
      "{'int': 2, 'float': 0, 'char': 1, 'short': 0, 'long': 0, 'double': 0, '=': 3, '+': 1, '-': 0, '*': 1, '%': 1, '/': 0, '++': 1, '--': 0, '==': 1, '!=': 0, '>': 0, '<': 2, '<=': 0, '>=': 0, '&&': 0, '!': 0, '||': 0, '&': 2, '|': 0, '^': 0, '~': 0, '<<': 0, '>>': 0, '+=': 0, '-=': 0, '*=': 0, '/=': 0, '^=': 0, '%=': 0, '&=': 0}\n"
     ]
    }
   ],
   "source": [
    "print(count)"
   ]
  },
  {
   "cell_type": "code",
   "execution_count": null,
   "metadata": {},
   "outputs": [],
   "source": []
  },
  {
   "cell_type": "code",
   "execution_count": null,
   "metadata": {},
   "outputs": [],
   "source": []
  }
 ],
 "metadata": {
  "kernelspec": {
   "display_name": "Python 3",
   "language": "python",
   "name": "python3"
  },
  "language_info": {
   "codemirror_mode": {
    "name": "ipython",
    "version": 3
   },
   "file_extension": ".py",
   "mimetype": "text/x-python",
   "name": "python",
   "nbconvert_exporter": "python",
   "pygments_lexer": "ipython3",
   "version": "3.8.5"
  }
 },
 "nbformat": 4,
 "nbformat_minor": 4
}
